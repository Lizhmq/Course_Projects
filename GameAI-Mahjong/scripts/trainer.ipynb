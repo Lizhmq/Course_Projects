{
 "cells": [
  {
   "cell_type": "code",
   "execution_count": 1,
   "metadata": {},
   "outputs": [],
   "source": [
    "import torch\n",
    "from torch.utils import data\n",
    "from Dataset import *\n",
    "from torch.autograd import Variable\n",
    "from testPlayer import *"
   ]
  },
  {
   "cell_type": "code",
   "execution_count": 2,
   "metadata": {},
   "outputs": [],
   "source": [
    "dirname = 'playlabel'\n",
    "\n",
    "trainfilenum = 10\n",
    "testfilenum = 2\n",
    "\n",
    "files = ['data/' + dirname + '/data' + str(i) + '.pt' for i in range(trainfilenum)]\n",
    "labelfile = 'data/' + dirname  + '/labels.pt'\n",
    "batchsize =  128\n",
    "filesize = 50000\n",
    "dataset = Dataset(files, labelfile, batchsize, filesize)\n",
    "\n",
    "testfiles = ['data/' + dirname + '/data' + str(i + trainfilenum) + '.pt' for i in range(testfilenum)]\n",
    "testlabel = 'data/' + dirname + '/testlabels.pt'\n",
    "testset = Dataset(testfiles, testlabel, batchsize, filesize)"
   ]
  },
  {
   "cell_type": "code",
   "execution_count": 3,
   "metadata": {},
   "outputs": [],
   "source": [
    "player = PlayPlayer().cuda()\n",
    "criterion = nn.CrossEntropyLoss()\n",
    "optimizer = optim.Adam(filter(lambda p: p.requires_grad, player.parameters()), lr=0.001, betas=(0.9, 0.999))"
   ]
  },
  {
   "cell_type": "code",
   "execution_count": null,
   "metadata": {},
   "outputs": [],
   "source": []
  },
  {
   "cell_type": "code",
   "execution_count": 4,
   "metadata": {},
   "outputs": [],
   "source": [
    "# state_dict = player.state_dict()\n",
    "# pretrained_dict = {k: v for k, v in pretrained.items() if k in state_dict}\n",
    "# # print(pretrained.keys())\n",
    "# # print(player.state_dict().keys())\n",
    "# state_dict.update(pretrained_dict)\n",
    "# player.load_state_dict(state_dict)"
   ]
  },
  {
   "cell_type": "code",
   "execution_count": null,
   "metadata": {},
   "outputs": [],
   "source": []
  },
  {
   "cell_type": "code",
   "execution_count": 5,
   "metadata": {},
   "outputs": [],
   "source": [
    "# print(pretrained_dict.keys())"
   ]
  },
  {
   "cell_type": "code",
   "execution_count": 6,
   "metadata": {},
   "outputs": [],
   "source": [
    "max_epochs = 8\n",
    "\n",
    "# truelabels = 0.0\n",
    "# falselabels = 0.0\n",
    "\n",
    "# dataset.reset()\n",
    "# for i, data in enumerate(dataset.getbatch()):\n",
    "#     inputs, labels = data\n",
    "#     truelabels += sum(labels)\n",
    "#     falselabels += sum(1 - np.array(labels))"
   ]
  },
  {
   "cell_type": "code",
   "execution_count": 7,
   "metadata": {
    "scrolled": false
   },
   "outputs": [
    {
     "name": "stdout",
     "output_type": "stream",
     "text": [
      "start training epoch 1....\n",
      "[1,  1000] loss: 3.022\n",
      "train_acc:  19.95\n",
      "[1,  2000] loss: 2.620\n",
      "train_acc:  27.85\n",
      "[1,  3000] loss: 2.503\n",
      "train_acc:  29.36\n",
      "[1,  4000] loss: 2.394\n",
      "train_acc:  31.13\n",
      "[1,  5000] loss: 2.312\n",
      "train_acc:  32.69\n",
      "[1,  6000] loss: 2.257\n",
      "train_acc:  33.65\n",
      "[1,  7000] loss: 2.228\n",
      "train_acc:  34.25\n",
      "[1,  8000] loss: 2.197\n",
      "train_acc:  34.60\n",
      "[1,  9000] loss: 2.162\n",
      "train_acc:  35.44\n",
      "[1, 10000] loss: 2.132\n",
      "train_acc:  35.69\n",
      "[1, 11000] loss: 2.091\n",
      "train_acc:  36.90\n",
      "[1, 12000] loss: 2.089\n",
      "train_acc:  36.64\n",
      "[1, 13000] loss: 2.060\n",
      "train_acc:  37.17\n",
      "[1, 14000] loss: 2.034\n",
      "train_acc:  37.83\n",
      "[1, 15000] loss: 2.026\n",
      "train_acc:  38.02\n",
      "[1, 16000] loss: 2.006\n",
      "train_acc:  38.55\n",
      "[1, 17000] loss: 1.988\n",
      "train_acc:  38.90\n",
      "[1, 18000] loss: 1.980\n",
      "train_acc:  39.03\n",
      "[1, 19000] loss: 1.968\n",
      "train_acc:  39.22\n",
      "[1, 20000] loss: 1.950\n",
      "train_acc:  39.52\n",
      "[1, 21000] loss: 1.954\n",
      "train_acc:  39.42\n",
      "[1, 22000] loss: 1.933\n",
      "train_acc:  40.02\n",
      "[1, 23000] loss: 1.922\n",
      "train_acc:  40.09\n",
      "[1, 24000] loss: 1.917\n",
      "train_acc:  40.41\n",
      "[1, 25000] loss: 1.901\n",
      "train_acc:  40.89\n",
      "[1, 26000] loss: 1.896\n",
      "train_acc:  41.05\n",
      "[1, 27000] loss: 1.900\n",
      "train_acc:  41.04\n",
      "[1, 28000] loss: 1.887\n",
      "train_acc:  41.30\n",
      "[1, 29000] loss: 1.875\n",
      "train_acc:  41.82\n",
      "[1, 30000] loss: 1.862\n",
      "train_acc:  41.94\n",
      "[1, 31000] loss: 1.858\n",
      "train_acc:  42.19\n",
      "[1, 32000] loss: 1.863\n",
      "train_acc:  41.95\n",
      "[1, 33000] loss: 1.861\n",
      "train_acc:  42.07\n",
      "[1, 34000] loss: 1.860\n",
      "train_acc:  41.95\n",
      "[1, 35000] loss: 1.840\n",
      "train_acc:  42.55\n",
      "[1, 36000] loss: 1.839\n",
      "train_acc:  42.65\n",
      "[1, 37000] loss: 1.828\n",
      "train_acc:  43.07\n",
      "[1, 38000] loss: 1.817\n",
      "train_acc:  43.53\n",
      "[1, 39000] loss: 1.823\n",
      "train_acc:  43.36\n"
     ]
    },
    {
     "ename": "FileNotFoundError",
     "evalue": "[Errno 2] No such file or directory: 'testmodel/play/model1.pt'",
     "output_type": "error",
     "traceback": [
      "\u001b[0;31m---------------------------------------------------------------------------\u001b[0m",
      "\u001b[0;31mFileNotFoundError\u001b[0m                         Traceback (most recent call last)",
      "\u001b[0;32m<ipython-input-7-b7fa07215c63>\u001b[0m in \u001b[0;36m<module>\u001b[0;34m()\u001b[0m\n\u001b[1;32m     34\u001b[0m             \u001b[0mrunning_loss\u001b[0m \u001b[0;34m=\u001b[0m \u001b[0;36m0.0\u001b[0m\u001b[0;34m\u001b[0m\u001b[0m\n\u001b[1;32m     35\u001b[0m \u001b[0;34m\u001b[0m\u001b[0m\n\u001b[0;32m---> 36\u001b[0;31m     \u001b[0mtorch\u001b[0m\u001b[0;34m.\u001b[0m\u001b[0msave\u001b[0m\u001b[0;34m(\u001b[0m\u001b[0mplayer\u001b[0m\u001b[0;34m.\u001b[0m\u001b[0mstate_dict\u001b[0m\u001b[0;34m(\u001b[0m\u001b[0;34m)\u001b[0m\u001b[0;34m,\u001b[0m \u001b[0;34m'testmodel/'\u001b[0m \u001b[0;34m+\u001b[0m \u001b[0mdirname\u001b[0m\u001b[0;34m[\u001b[0m\u001b[0;34m:\u001b[0m\u001b[0;34m-\u001b[0m\u001b[0;36m5\u001b[0m\u001b[0;34m]\u001b[0m \u001b[0;34m+\u001b[0m \u001b[0;34m'/model'\u001b[0m \u001b[0;34m+\u001b[0m \u001b[0mstr\u001b[0m\u001b[0;34m(\u001b[0m\u001b[0mepoch\u001b[0m \u001b[0;34m+\u001b[0m \u001b[0;36m1\u001b[0m\u001b[0;34m)\u001b[0m \u001b[0;34m+\u001b[0m \u001b[0;34m'.pt'\u001b[0m\u001b[0;34m)\u001b[0m\u001b[0;34m\u001b[0m\u001b[0m\n\u001b[0m\u001b[1;32m     37\u001b[0m \u001b[0;34m\u001b[0m\u001b[0m\n\u001b[1;32m     38\u001b[0m     \u001b[0mtestset\u001b[0m\u001b[0;34m.\u001b[0m\u001b[0mreset\u001b[0m\u001b[0;34m(\u001b[0m\u001b[0;34m)\u001b[0m\u001b[0;34m\u001b[0m\u001b[0m\n",
      "\u001b[0;32m~/.local/lib/python3.5/site-packages/torch/serialization.py\u001b[0m in \u001b[0;36msave\u001b[0;34m(obj, f, pickle_module, pickle_protocol)\u001b[0m\n\u001b[1;32m    159\u001b[0m         \u001b[0;34m>>\u001b[0m\u001b[0;34m>\u001b[0m \u001b[0mtorch\u001b[0m\u001b[0;34m.\u001b[0m\u001b[0msave\u001b[0m\u001b[0;34m(\u001b[0m\u001b[0mx\u001b[0m\u001b[0;34m,\u001b[0m \u001b[0mbuffer\u001b[0m\u001b[0;34m)\u001b[0m\u001b[0;34m\u001b[0m\u001b[0m\n\u001b[1;32m    160\u001b[0m     \"\"\"\n\u001b[0;32m--> 161\u001b[0;31m     \u001b[0;32mreturn\u001b[0m \u001b[0m_with_file_like\u001b[0m\u001b[0;34m(\u001b[0m\u001b[0mf\u001b[0m\u001b[0;34m,\u001b[0m \u001b[0;34m\"wb\"\u001b[0m\u001b[0;34m,\u001b[0m \u001b[0;32mlambda\u001b[0m \u001b[0mf\u001b[0m\u001b[0;34m:\u001b[0m \u001b[0m_save\u001b[0m\u001b[0;34m(\u001b[0m\u001b[0mobj\u001b[0m\u001b[0;34m,\u001b[0m \u001b[0mf\u001b[0m\u001b[0;34m,\u001b[0m \u001b[0mpickle_module\u001b[0m\u001b[0;34m,\u001b[0m \u001b[0mpickle_protocol\u001b[0m\u001b[0;34m)\u001b[0m\u001b[0;34m)\u001b[0m\u001b[0;34m\u001b[0m\u001b[0m\n\u001b[0m\u001b[1;32m    162\u001b[0m \u001b[0;34m\u001b[0m\u001b[0m\n\u001b[1;32m    163\u001b[0m \u001b[0;34m\u001b[0m\u001b[0m\n",
      "\u001b[0;32m~/.local/lib/python3.5/site-packages/torch/serialization.py\u001b[0m in \u001b[0;36m_with_file_like\u001b[0;34m(f, mode, body)\u001b[0m\n\u001b[1;32m    114\u001b[0m             \u001b[0;34m(\u001b[0m\u001b[0msys\u001b[0m\u001b[0;34m.\u001b[0m\u001b[0mversion_info\u001b[0m\u001b[0;34m[\u001b[0m\u001b[0;36m0\u001b[0m\u001b[0;34m]\u001b[0m \u001b[0;34m==\u001b[0m \u001b[0;36m3\u001b[0m \u001b[0;32mand\u001b[0m \u001b[0misinstance\u001b[0m\u001b[0;34m(\u001b[0m\u001b[0mf\u001b[0m\u001b[0;34m,\u001b[0m \u001b[0mpathlib\u001b[0m\u001b[0;34m.\u001b[0m\u001b[0mPath\u001b[0m\u001b[0;34m)\u001b[0m\u001b[0;34m)\u001b[0m\u001b[0;34m:\u001b[0m\u001b[0;34m\u001b[0m\u001b[0m\n\u001b[1;32m    115\u001b[0m         \u001b[0mnew_fd\u001b[0m \u001b[0;34m=\u001b[0m \u001b[0;32mTrue\u001b[0m\u001b[0;34m\u001b[0m\u001b[0m\n\u001b[0;32m--> 116\u001b[0;31m         \u001b[0mf\u001b[0m \u001b[0;34m=\u001b[0m \u001b[0mopen\u001b[0m\u001b[0;34m(\u001b[0m\u001b[0mf\u001b[0m\u001b[0;34m,\u001b[0m \u001b[0mmode\u001b[0m\u001b[0;34m)\u001b[0m\u001b[0;34m\u001b[0m\u001b[0m\n\u001b[0m\u001b[1;32m    117\u001b[0m     \u001b[0;32mtry\u001b[0m\u001b[0;34m:\u001b[0m\u001b[0;34m\u001b[0m\u001b[0m\n\u001b[1;32m    118\u001b[0m         \u001b[0;32mreturn\u001b[0m \u001b[0mbody\u001b[0m\u001b[0;34m(\u001b[0m\u001b[0mf\u001b[0m\u001b[0;34m)\u001b[0m\u001b[0;34m\u001b[0m\u001b[0m\n",
      "\u001b[0;31mFileNotFoundError\u001b[0m: [Errno 2] No such file or directory: 'testmodel/play/model1.pt'"
     ]
    }
   ],
   "source": [
    "print_each = 1000\n",
    "for epoch in range(max_epochs):\n",
    "    player.training = True\n",
    "    print('start training epoch ' + str(epoch + 1) + '....')\n",
    "    running_loss = 0.0\n",
    "    dataset.reset()\n",
    "    \n",
    "    num = 0\n",
    "    correct = 0\n",
    "    \n",
    "    for i, data in enumerate(dataset.getbatch()):\n",
    "        \n",
    "        inputs, labels = data\n",
    "        inputs, labels = torch.tensor(inputs, dtype=torch.uint8).cuda(), torch.tensor(labels).cuda()\n",
    "        inputs = inputs.float()\n",
    "        optimizer.zero_grad()\n",
    "        outputs = player(inputs)\n",
    "        \n",
    "        tmp = torch.argmax(outputs, dim=1) == labels\n",
    "        correct += torch.sum(tmp)\n",
    "        num += 128\n",
    "        \n",
    "        loss = criterion(outputs, labels)\n",
    "        loss.backward()\n",
    "        optimizer.step()\n",
    "        \n",
    "        running_loss += loss.item()\n",
    "        if (i + 1) % print_each == 0:\n",
    "            print('[%d, %5d] loss: %.3f' %\n",
    "                  (epoch + 1, i + 1, running_loss / print_each))\n",
    "            print('train_acc:  %.2f' % (float(correct) * 100.0 / num))\n",
    "            correct = 0\n",
    "            num = 0\n",
    "            running_loss = 0.0\n",
    "\n",
    "    torch.save(player.state_dict(), 'testmodel/' + dirname[:-5] + '/model' + str(epoch + 1) + '.pt')\n",
    "    \n",
    "    testset.reset()\n",
    "    testnum = 0\n",
    "    testcorrect = 0\n",
    "    with torch.no_grad():\n",
    "        player.training = False\n",
    "        for i, data in enumerate(testset.getbatch()):\n",
    "\n",
    "            inputs, labels = data\n",
    "            inputs, labels = torch.tensor(inputs, dtype=torch.uint8).cuda(), torch.tensor(labels).cuda()\n",
    "            inputs = inputs.float()\n",
    "\n",
    "            optimizer.zero_grad()\n",
    "            outputs = player(inputs)\n",
    "\n",
    "            tmp = torch.argmax(outputs, dim=1) == labels\n",
    "            testcorrect += torch.sum(tmp)\n",
    "            testnum += 128\n",
    "        print('test_acc:  %.2f' % (float(testcorrect) * 100.0 / testnum))\n",
    "        print()\n",
    "        print()\n",
    "        print()\n",
    "        \n",
    "print('Finished Training')"
   ]
  },
  {
   "cell_type": "code",
   "execution_count": null,
   "metadata": {},
   "outputs": [],
   "source": [
    "print(truelabels)\n",
    "print(falselabels)\n",
    "print(TP / int(truelabels))\n",
    "print((correct - TP) * 100 / int(falselabels))"
   ]
  },
  {
   "cell_type": "code",
   "execution_count": 15,
   "metadata": {},
   "outputs": [],
   "source": [
    "player.load_state_dict(torch.load('model/play/bigmodel4.pt'))"
   ]
  },
  {
   "cell_type": "code",
   "execution_count": 17,
   "metadata": {},
   "outputs": [
    {
     "name": "stdout",
     "output_type": "stream",
     "text": [
      "test_acc:  67.29\n",
      "\n",
      "\n",
      "\n"
     ]
    }
   ],
   "source": [
    "testset = dataset\n",
    "testset.reset()\n",
    "testnum = 0\n",
    "testcorrect = 0\n",
    "with torch.no_grad():\n",
    "    for i, data in enumerate(testset.getbatch()):\n",
    "\n",
    "        inputs, labels = data\n",
    "        inputs, labels = torch.tensor(inputs, dtype=torch.uint8).cuda(), torch.tensor(labels).cuda()\n",
    "        inputs = inputs.float()\n",
    "\n",
    "        testnum += 128\n",
    "        \n",
    "        optimizer.zero_grad()\n",
    "        outputs = player(inputs)\n",
    "\n",
    "        tmp = torch.argmax(outputs, dim=1) == labels\n",
    "        testcorrect += torch.sum(tmp)\n",
    "    print('test_acc:  %.2f' % (float(testcorrect) * 100.0 / int(testnum)))\n",
    "    print()\n",
    "    print()\n",
    "    print()"
   ]
  },
  {
   "cell_type": "code",
   "execution_count": 23,
   "metadata": {},
   "outputs": [
    {
     "name": "stdout",
     "output_type": "stream",
     "text": [
      "310\n",
      "4999680\n"
     ]
    }
   ],
   "source": [
    "dataset.reset()\n",
    "cnt = 0\n",
    "tot = 0\n",
    "for i, data in enumerate(dataset.getbatch()):\n",
    "    inputs, labels = data\n",
    "    for p in inputs:\n",
    "        if sum(p[-34:]) % 3 != 2:\n",
    "            cnt += 1\n",
    "        tot += 1\n",
    "print(cnt)\n",
    "print(tot)"
   ]
  },
  {
   "cell_type": "code",
   "execution_count": 13,
   "metadata": {},
   "outputs": [],
   "source": [
    "inputs = inputs[0]"
   ]
  },
  {
   "cell_type": "code",
   "execution_count": 20,
   "metadata": {},
   "outputs": [
    {
     "data": {
      "text/plain": [
       "14"
      ]
     },
     "execution_count": 20,
     "metadata": {},
     "output_type": "execute_result"
    }
   ],
   "source": [
    "sum(inputs[-34:])"
   ]
  },
  {
   "cell_type": "code",
   "execution_count": 7,
   "metadata": {},
   "outputs": [
    {
     "data": {
      "text/plain": [
       "0.0"
      ]
     },
     "execution_count": 7,
     "metadata": {},
     "output_type": "execute_result"
    }
   ],
   "source": [
    "sum(np.zeros(3))"
   ]
  },
  {
   "cell_type": "code",
   "execution_count": 2,
   "metadata": {},
   "outputs": [
    {
     "name": "stdout",
     "output_type": "stream",
     "text": [
      "2\n",
      "3\n"
     ]
    }
   ],
   "source": [
    "for i in range(2, 4):\n",
    "    print(i)"
   ]
  },
  {
   "cell_type": "code",
   "execution_count": 8,
   "metadata": {},
   "outputs": [
    {
     "name": "stdout",
     "output_type": "stream",
     "text": [
      "(1, 2, 3)\n"
     ]
    }
   ],
   "source": [
    "a = [1, 2, 3]\n",
    "print(tuple(a))"
   ]
  },
  {
   "cell_type": "code",
   "execution_count": 3,
   "metadata": {},
   "outputs": [],
   "source": [
    "def t():\n",
    "    print(a)"
   ]
  },
  {
   "cell_type": "code",
   "execution_count": 11,
   "metadata": {},
   "outputs": [
    {
     "name": "stdout",
     "output_type": "stream",
     "text": [
      "{\"0\": 1}\n",
      "{0: 1}\n"
     ]
    }
   ],
   "source": [
    "import json\n",
    "dic = dict()\n",
    "dic[0] = 1\n",
    "print(json.dumps(dic))\n",
    "print(dic)"
   ]
  },
  {
   "cell_type": "code",
   "execution_count": null,
   "metadata": {},
   "outputs": [],
   "source": [
    "{\"requests\":[\"0 0 2\",\"1 0 2 2 2 W7 T1 T9 B2 T9 B7 F3 J1 W3 W5 B1 T4 W8 H7 H5 H8 H4 H1 H3\",\n",
    "             \"2 T7\",\"3 0 PLAY B7\",\"3 1 CHI B6 W8\",\"3 2 DRAW\",\n",
    "             \"3 2 PLAY T3\",\"3 3 CHI T4 B9\",\"2 F1\",\"3 0 PLAY T1\",\"3 1 DRAW\"],\n",
    " \"responses\":[\"PASS\",\"PASS\",\"PLAY B7\",\"PASS\",\"PASS\",\"PASS\",\"PASS\",\"PASS\",\"PLAY T1\",\"PASS\"]}"
   ]
  },
  {
   "cell_type": "code",
   "execution_count": null,
   "metadata": {},
   "outputs": [],
   "source": [
    "{\"requests\":[\"0 1 1\",\"1 1 1 1 1 B7 T3 B5 W4 T4 W3 T8 J2 B4 T3 W6 T1 B4 H3 H2 H6 H8\",\"3 0 DRAW\",\"3 0 PLAY T1\",\"2 B8\",\"3 1 PLAY J2\",\"3 2 DRAW\",\"3 2 PLAY T2\",\"3 3 DRAW\",\"3 3 PLAY W7\",\"3 0 DRAW\",\"3 0 PLAY B9\",\"2 B6\",\"3 1 PLAY T1\",\"3 2 DRAW\",\"3 2 PLAY W5\",\"3 3 DRAW\",\"3 3 PLAY B3\",\"3 0 BUHUA H1\",\"3 0 DRAW\",\"3 0 PLAY W1\",\"2 B9\",\"3 1 PLAY B4\",\"3 2 DRAW\",\"3 2 PLAY F3\",\"3 3 DRAW\",\"3 3 PLAY W8\",\"3 0 DRAW\",\"3 0 PLAY W2\",\"2 T2\",\"3 1 PLAY T3\",\"3 2 DRAW\",\"3 2 PLAY W9\",\"3 3 DRAW\",\"3 3 PLAY F1\",\"3 0 DRAW\",\"3 0 PLAY F3\",\"2 W1\",\"3 1 PLAY W1\",\"3 2 DRAW\",\"3 2 PLAY T6\",\"3 3 DRAW\",\"3 3 PLAY B7\",\"3 0 DRAW\",\"3 0 PLAY T3\",\"3 1 BUHUA H4\",\"2 F4\",\"3 1 PLAY F4\",\"3 2 DRAW\",\"3 2 PLAY W2\",\"3 3 DRAW\",\"3 3 PLAY F4\",\"3 0 DRAW\",\"3 0 PLAY W8\",\"2 W9\",\"3 1 PLAY W6\",\"3 2 DRAW\",\"3 2 PLAY J2\",\"3 3 DRAW\",\"3 3 PLAY J3\",\"3 0 DRAW\",\"3 0 PLAY B9\",\"2 W7\",\"3 1 PLAY W9\",\"3 2 DRAW\",\"3 2 PLAY B6\",\"3 3 DRAW\",\"3 3 PLAY B3\",\"3 0 DRAW\",\"3 0 PLAY W7\",\"2 W5\",\"3 1 PLAY W7\",\"3 2 DRAW\",\"3 2 PLAY W8\",\"3 3 DRAW\",\"3 3 PLAY F1\",\"3 0 DRAW\",\"3 0 PLAY W5\",\"2 B8\",\"3 1 PLAY T8\",\"3 2 BUHUA H7\",\"3 2 DRAW\",\"3 2 PLAY W1\",\"3 3 DRAW\",\"3 3 PLAY B4\",\"3 0 BUHUA H5\",\"3 0 DRAW\",\"3 0 PLAY W9\",\"2 B2\",\"3 1 PLAY B8\",\"3 2 DRAW\",\"3 2 PLAY T6\",\"3 3 DRAW\",\"3 3 PLAY W3\",\"3 0 DRAW\",\"3 0 PLAY B5\",\"2 T8\",\"3 1 PLAY T8\",\"3 2 DRAW\",\"3 2 PLAY F2\",\"3 3 DRAW\",\"3 3 PLAY W6\",\"3 0 DRAW\",\"3 0 PLAY W8\",\"2 W6\",\"3 1 PLAY W6\",\"3 2 DRAW\",\"3 2 PLAY J3\",\"3 3 DRAW\",\"3 3 PLAY J1\",\"3 0 DRAW\",\"3 0 PLAY F2\",\"2 F1\",\"3 1 PLAY F1\",\"3 2 DRAW\",\"3 2 PLAY W5\",\"3 3 DRAW\",\"3 3 PLAY B3\",\"3 0 DRAW\",\"3 0 PLAY W4\",\"2 B2\"],\"responses\":[\"PASS\",\"PASS\",\"PASS\",\"PASS\",\"PLAY J2\",\"PASS\",\"PASS\",\"PASS\",\"PASS\",\"PASS\",\"PASS\",\"PASS\",\"PLAY T1\",\"PASS\",\"PASS\",\"PASS\",\"PASS\",\"PASS\",\"PASS\",\"PASS\",\"PASS\",\"PLAY B4\",\"PASS\",\"PASS\",\"PASS\",\"PASS\",\"PASS\",\"PASS\",\"PASS\",\"PLAY T3\",\"PASS\",\"PASS\",\"PASS\",\"PASS\",\"PASS\",\"PASS\",\"PASS\",\"PLAY W1\",\"PASS\",\"PASS\",\"PASS\",\"PASS\",\"PASS\",\"PASS\",\"PASS\",\"PASS\",\"PLAY F4\",\"PASS\",\"PASS\",\"PASS\",\"PASS\",\"PASS\",\"PASS\",\"PASS\",\"PLAY W6\",\"PASS\",\"PASS\",\"PASS\",\"PASS\",\"PASS\",\"PASS\",\"PASS\",\"PLAY W9\",\"PASS\",\"PASS\",\"PASS\",\"PASS\",\"PASS\",\"PASS\",\"PASS\",\"PLAY W7\",\"PASS\",\"PASS\",\"PASS\",\"PASS\",\"PASS\",\"PASS\",\"PASS\",\"PLAY T8\",\"PASS\",\"PASS\",\"PASS\",\"PASS\",\"PASS\",\"PASS\",\"PASS\",\"PASS\",\"PASS\",\"PLAY B8\",\"PASS\",\"PASS\",\"PASS\",\"PASS\",\"PASS\",\"PASS\",\"PASS\",\"PLAY T8\",\"PASS\",\"PASS\",\"PASS\",\"PASS\",\"PASS\",\"PASS\",\"PASS\",\"PLAY W6\",\"PASS\",\"PASS\",\"PASS\",\"PASS\",\"PASS\",\"PASS\",\"PASS\",\"PLAY F1\",\"PASS\",\"PASS\",\"PASS\",\"PASS\",\"PASS\",\"PASS\", \"PASS\"]}"
   ]
  }
 ],
 "metadata": {
  "kernelspec": {
   "display_name": "Python 3",
   "language": "python",
   "name": "python3"
  },
  "language_info": {
   "codemirror_mode": {
    "name": "ipython",
    "version": 3
   },
   "file_extension": ".py",
   "mimetype": "text/x-python",
   "name": "python",
   "nbconvert_exporter": "python",
   "pygments_lexer": "ipython3",
   "version": "3.5.2"
  }
 },
 "nbformat": 4,
 "nbformat_minor": 2
}
