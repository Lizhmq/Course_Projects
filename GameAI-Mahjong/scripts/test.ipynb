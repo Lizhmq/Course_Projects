{
 "cells": [
  {
   "cell_type": "code",
   "execution_count": 2,
   "metadata": {},
   "outputs": [],
   "source": [
    "import json\n",
    "import torch\n",
    "\n",
    "def process(dirname, save_each):\n",
    "\n",
    "    keys = ('myplayedcard', 'myshowcard', 'next1playedcard', 'next1showcard', 'next2playedcard', 'next2showcard', \n",
    "           'next3playedcard', 'next3showcard', 'mycnum', 'mygnum', 'mypnum', 'next1cnum', 'next1gnum', 'next1pnum',\n",
    "            'next2cnum', 'next2gnum', 'next2pnum', 'next3cnum', 'next3gnum', 'next3pnum', 'myhandcard')\n",
    "\n",
    "    with open('../data/' + dirname + '.txt') as lines:\n",
    "        datas = []\n",
    "        labels = []\n",
    "        l = 0\n",
    "        FileId = 0\n",
    "        for line in lines:\n",
    "            data = json.loads(line)\n",
    "            x = []\n",
    "            for i in keys:\n",
    "                if isinstance(data[i], list):\n",
    "                    x += data[i]\n",
    "                else:\n",
    "                    x.append(data[i])\n",
    "            if dirname != 'playlabel':\n",
    "                tmp = [0] * 34\n",
    "                tmp[data['lastcard']] = 1\n",
    "                x += tmp\n",
    "            if dirname == 'chilabel':\n",
    "                label = None\n",
    "                if data['label'] == 0:\n",
    "                    label = 0\n",
    "                else:\n",
    "                    chilabel = data['labelchi']\n",
    "                    label = chilabel + 1\n",
    "            else:\n",
    "                label = data['label']\n",
    "            datas.append(x)\n",
    "            labels.append(label)\n",
    "            if (l + 1) % save_each == 0:\n",
    "                torch.save(datas, '../data/' + dirname + '/data' + str(FileId) + '.pt')\n",
    "                datas = []\n",
    "                FileId += 1\n",
    "            l += 1\n",
    "        torch.save(datas, '../data/' + dirname + '/data' + str(FileId) + '.pt')\n",
    "        torch.save(labels, '../data/' + dirname + '/labels.pt')\n",
    "\n",
    "#     # num = 88\n",
    "#     dirname = 'chilabel'\n",
    "#     files = ['../data/' + dirname + '/data' + str(i) + '.pt' for i in range(70)]\n",
    "#     filesize = 50000\n",
    "\n",
    "#     labels = torch.load('../data/chilabel/labels.pt')\n",
    "#     torch.save(labels[filesize * len(files):], '../data/chilabel/testlabels.pt')\n",
    "def main():\n",
    "#     process('chilabel', 50000)     # 19, 4\n",
    "    process('mingganglabel', 50000) # 1, 1\n",
    "    process('penglabel', 50000)    # 10, 3\n",
    "#     process('playlabel', 500000)    # 10, 2"
   ]
  },
  {
   "cell_type": "code",
   "execution_count": 3,
   "metadata": {},
   "outputs": [],
   "source": [
    "main()"
   ]
  },
  {
   "cell_type": "code",
   "execution_count": 7,
   "metadata": {},
   "outputs": [],
   "source": [
    "num = 88\n",
    "splitnum = 10\n",
    "filesize = 50000\n",
    "dirname = 'penglabel'\n",
    "files = ['../data/' + dirname + '/data' + str(i) + '.pt' for i in range(splitnum)]\n",
    "labels = torch.load('../data/' + dirname + '/labels.pt')\n",
    "torch.save(labels[filesize * len(files):], '../data/' + dirname + '/testlabels.pt')"
   ]
  },
  {
   "cell_type": "code",
   "execution_count": 5,
   "metadata": {},
   "outputs": [],
   "source": [
    "data = torch.load('../data/' + 'mingganglabel' + '/data' + str(0) + '.pt')\n",
    "labels = torch.load('../data/mingganglabel/labels.pt')"
   ]
  },
  {
   "cell_type": "code",
   "execution_count": 6,
   "metadata": {},
   "outputs": [],
   "source": [
    "l = len(data) * 0.85\n",
    "torch.save(data[:int(l)], '../data/mingganglabel/data0.pt')\n",
    "torch.save(data[int(l):], '../data/mingganglabel/data1.pt')\n",
    "torch.save(labels[int(l):], '../data/mingganglabel/testlabels.pt')"
   ]
  },
  {
   "cell_type": "code",
   "execution_count": 3,
   "metadata": {},
   "outputs": [],
   "source": [
    "import json\n",
    "a = '{\"requests\":[\"0 0 0\",\"1 0 0 3 1 W8 W6 J3 J1 W2 W1 T6 F1 W1 F3 T8 W8 B3 H6 H4 H1 H7\",\"2 B1\",\"3 0 PLAY J3\",\"3 1 BUHUA H5\",\"3 1 DRAW\",\"3 1 PLAY T1\",\"3 2 DRAW\",\"3 2 PLAY T1\",\"3 3 DRAW\",\"3 3 PLAY W3\",\"3 0 CHI W2 F1\",\"3 1 DRAW\",\"3 1 PLAY F2\",\"3 2 DRAW\",\"3 2 PLAY T4\",\"3 3 DRAW\",\"3 3 PLAY T9\",\"2 T1\",\"3 0 PLAY J1\",\"3 1 DRAW\",\"3 1 PLAY W7\",\"3 2 DRAW\",\"3 2 PLAY T7\",\"3 3 DRAW\",\"3 3 PLAY W6\",\"2 J1\",\"3 0 PLAY J1\",\"3 1 DRAW\",\"3 1 PLAY J1\",\"3 2 DRAW\",\"3 2 PLAY B1\",\"3 3 DRAW\",\"3 3 PLAY F3\",\"2 B9\",\"3 0 PLAY F3\",\"3 1 DRAW\",\"3 1 PLAY F3\",\"3 2 DRAW\",\"3 2 PLAY T8\",\"3 3 BUHUA H2\",\"3 3 DRAW\",\"3 3 PLAY W9\",\"3 2 PENG B3\",\"3 3 DRAW\",\"3 3 PLAY J2\",\"2 T3\",\"3 0 PLAY W6\",\"3 1 DRAW\",\"3 1 PLAY T4\",\"3 2 DRAW\",\"3 2 PLAY B4\",\"3 3 DRAW\",\"3 3 PLAY B7\",\"2 F1\",\"3 0 PLAY F1\",\"3 1 DRAW\",\"3 1 PLAY F1\",\"3 2 DRAW\",\"3 2 PLAY B8\",\"3 3 DRAW\",\"3 3 PLAY B3\",\"2 W8\",\"3 0 PLAY W8\",\"3 1 DRAW\",\"3 1 PLAY T8\"],\"responses\":[\"PASS\",\"PASS\",\"PLAY J3\",\"PASS\",\"PASS\",\"PASS\",\"PASS\",\"PASS\",\"PASS\",\"PASS\",\"CHI W2 F1\",\"PASS\",\"PASS\",\"PASS\",\"PASS\",\"PASS\",\"PASS\",\"PASS\",\"PLAY J1\",\"PASS\",\"PASS\",\"PASS\",\"PASS\",\"PASS\",\"PASS\",\"PASS\",\"PLAY J1\",\"PASS\",\"PASS\",\"PASS\",\"PASS\",\"PASS\",\"PASS\",\"PASS\",\"PLAY F3\",\"PASS\",\"PASS\",\"PASS\",\"PASS\",\"PASS\",\"PASS\",\"PASS\",\"PASS\",\"PASS\",\"PASS\",\"PASS\",\"PLAY W6\",\"PASS\",\"PASS\",\"PASS\",\"PASS\",\"PASS\",\"PASS\",\"PASS\",\"PLAY F1\",\"PASS\",\"PASS\",\"PASS\",\"PASS\",\"PASS\",\"PASS\",\"PASS\",\"PLAY W8\",\"PASS\",\"PASS\"]}'"
   ]
  },
  {
   "cell_type": "code",
   "execution_count": 4,
   "metadata": {},
   "outputs": [
    {
     "name": "stdout",
     "output_type": "stream",
     "text": [
      "responses ['PASS', 'PASS', 'PLAY J3', 'PASS', 'PASS', 'PASS', 'PASS', 'PASS', 'PASS', 'PASS', 'CHI W2 F1', 'PASS', 'PASS', 'PASS', 'PASS', 'PASS', 'PASS', 'PASS', 'PLAY J1', 'PASS', 'PASS', 'PASS', 'PASS', 'PASS', 'PASS', 'PASS', 'PLAY J1', 'PASS', 'PASS', 'PASS', 'PASS', 'PASS', 'PASS', 'PASS', 'PLAY F3', 'PASS', 'PASS', 'PASS', 'PASS', 'PASS', 'PASS', 'PASS', 'PASS', 'PASS', 'PASS', 'PASS', 'PLAY W6', 'PASS', 'PASS', 'PASS', 'PASS', 'PASS', 'PASS', 'PASS', 'PLAY F1', 'PASS', 'PASS', 'PASS', 'PASS', 'PASS', 'PASS', 'PASS', 'PLAY W8', 'PASS', 'PASS']\n",
      "\n",
      "requests ['0 0 0', '1 0 0 3 1 W8 W6 J3 J1 W2 W1 T6 F1 W1 F3 T8 W8 B3 H6 H4 H1 H7', '2 B1', '3 0 PLAY J3', '3 1 BUHUA H5', '3 1 DRAW', '3 1 PLAY T1', '3 2 DRAW', '3 2 PLAY T1', '3 3 DRAW', '3 3 PLAY W3', '3 0 CHI W2 F1', '3 1 DRAW', '3 1 PLAY F2', '3 2 DRAW', '3 2 PLAY T4', '3 3 DRAW', '3 3 PLAY T9', '2 T1', '3 0 PLAY J1', '3 1 DRAW', '3 1 PLAY W7', '3 2 DRAW', '3 2 PLAY T7', '3 3 DRAW', '3 3 PLAY W6', '2 J1', '3 0 PLAY J1', '3 1 DRAW', '3 1 PLAY J1', '3 2 DRAW', '3 2 PLAY B1', '3 3 DRAW', '3 3 PLAY F3', '2 B9', '3 0 PLAY F3', '3 1 DRAW', '3 1 PLAY F3', '3 2 DRAW', '3 2 PLAY T8', '3 3 BUHUA H2', '3 3 DRAW', '3 3 PLAY W9', '3 2 PENG B3', '3 3 DRAW', '3 3 PLAY J2', '2 T3', '3 0 PLAY W6', '3 1 DRAW', '3 1 PLAY T4', '3 2 DRAW', '3 2 PLAY B4', '3 3 DRAW', '3 3 PLAY B7', '2 F1', '3 0 PLAY F1', '3 1 DRAW', '3 1 PLAY F1', '3 2 DRAW', '3 2 PLAY B8', '3 3 DRAW', '3 3 PLAY B3', '2 W8', '3 0 PLAY W8', '3 1 DRAW', '3 1 PLAY T8']\n",
      "\n"
     ]
    }
   ],
   "source": [
    "data = json.loads(a)\n",
    "for i in data.keys():\n",
    "    print(i, data[i])\n",
    "    print()"
   ]
  },
  {
   "cell_type": "code",
   "execution_count": 11,
   "metadata": {},
   "outputs": [
    {
     "data": {
      "text/plain": [
       "'0 0 0'"
      ]
     },
     "execution_count": 11,
     "metadata": {},
     "output_type": "execute_result"
    }
   ],
   "source": [
    "request = data['requests']\n",
    "request[0]"
   ]
  },
  {
   "cell_type": "code",
   "execution_count": 1,
   "metadata": {},
   "outputs": [],
   "source": [
    "import numpy as np\n",
    "\n",
    "a = np.zeros(3)"
   ]
  },
  {
   "cell_type": "code",
   "execution_count": 3,
   "metadata": {},
   "outputs": [],
   "source": [
    "import json\n",
    "import wget"
   ]
  },
  {
   "cell_type": "code",
   "execution_count": null,
   "metadata": {},
   "outputs": [],
   "source": [
    "url = 'https://botzone.org.cn/contest/detail/5ce39b38d2337e01c7a51322'\n",
    "filename = 'tmp.json'"
   ]
  },
  {
   "cell_type": "code",
   "execution_count": 8,
   "metadata": {},
   "outputs": [
    {
     "data": {
      "text/plain": [
       "'tmp (2).json'"
      ]
     },
     "execution_count": 8,
     "metadata": {},
     "output_type": "execute_result"
    }
   ],
   "source": [
    "wget.download(url, out=filename)"
   ]
  },
  {
   "cell_type": "code",
   "execution_count": 9,
   "metadata": {},
   "outputs": [],
   "source": [
    "a = open(filename, 'r').read()"
   ]
  },
  {
   "cell_type": "code",
   "execution_count": 29,
   "metadata": {},
   "outputs": [],
   "source": [
    "dic = json.loads(a)\n",
    "scores = dic['contest']['players']"
   ]
  },
  {
   "cell_type": "code",
   "execution_count": 16,
   "metadata": {},
   "outputs": [
    {
     "name": "stdout",
     "output_type": "stream",
     "text": [
      "dict_keys(['table', 'status', 'currtime', 'success', 'contest'])\n"
     ]
    }
   ],
   "source": [
    "# print(dic.keys())"
   ]
  },
  {
   "cell_type": "code",
   "execution_count": 30,
   "metadata": {},
   "outputs": [],
   "source": [
    "namescore = [[i['bot']['bot']['score'], i['bot']['user']['name']] for i in scores]"
   ]
  },
  {
   "cell_type": "code",
   "execution_count": 31,
   "metadata": {
    "scrolled": true
   },
   "outputs": [
    {
     "data": {
      "text/plain": [
       "[[1242.1413764298131, 'HammerTank'],\n",
       " [1017.1451344469929, 'tangyuhao'],\n",
       " [1112.2254886082007, '啊咪咪小熊'],\n",
       " [1087.9489436609538, '阿斯顿不玩了'],\n",
       " [1099.8624704088757, 'lehuolh'],\n",
       " [1000, 'yyj'],\n",
       " [1091.328458617736, 'holmosaint'],\n",
       " [931.0212938985313, 'Troye_Fun'],\n",
       " [1145.9197579816887, 'PININK'],\n",
       " [1053.5379277112752, 'china_njlsc'],\n",
       " [1004.8298533893199, 'Pims'],\n",
       " [1000, 'burning'],\n",
       " [1000, 'liangjs'],\n",
       " [1032.7830652804291, '韩畅Clark'],\n",
       " [1153.3545826185964, 'Artificial_Idoit'],\n",
       " [1068.2560372422342, 'BeerBread'],\n",
       " [1043.362135393304, '我下不过随机'],\n",
       " [1095.9445644793186, 'humanfy'],\n",
       " [1144.7114103702474, 'c1600011060'],\n",
       " [1000, 'necr_kyle'],\n",
       " [1157.7967602464237, 'hhhh0555555'],\n",
       " [1168.9912949763047, 'jacoke'],\n",
       " [1000, 'cyan'],\n",
       " [1010.5804692674241, 'bravery'],\n",
       " [966.3785508151624, 'lzhbrian'],\n",
       " [1000, 'miemiemie'],\n",
       " [1084.6980935217778, 'hzw1998'],\n",
       " [966.838000510414, 'Hank'],\n",
       " [964.1369029647392, 'PKUfjh'],\n",
       " [1000, 'Jill'],\n",
       " [1000, '拉风的蛐蛐儿'],\n",
       " [1007.8557378514806, 'Immmortal'],\n",
       " [1000, 'ManagerYu'],\n",
       " [1000, 'Cab'],\n",
       " [1035.1325797255147, 'shadow_yzy'],\n",
       " [975.7230318830455, 'tomjerry213'],\n",
       " [1000, 'sbzsaltfish'],\n",
       " [1010.6367972999467, 'pkuliubo'],\n",
       " [1079.9959203003395, 'emmmm'],\n",
       " [1000, '懒羊羊唱情歌'],\n",
       " [1000, 'Krantz'],\n",
       " [1010.1518650972749, 'fye'],\n",
       " [1000, 'MapleMoon'],\n",
       " [1000, 'liuyi233']]"
      ]
     },
     "execution_count": 31,
     "metadata": {},
     "output_type": "execute_result"
    }
   ],
   "source": [
    "namescore"
   ]
  },
  {
   "cell_type": "code",
   "execution_count": null,
   "metadata": {},
   "outputs": [],
   "source": []
  }
 ],
 "metadata": {
  "kernelspec": {
   "display_name": "Python 3",
   "language": "python",
   "name": "python3"
  },
  "language_info": {
   "codemirror_mode": {
    "name": "ipython",
    "version": 3
   },
   "file_extension": ".py",
   "mimetype": "text/x-python",
   "name": "python",
   "nbconvert_exporter": "python",
   "pygments_lexer": "ipython3",
   "version": "3.5.2"
  }
 },
 "nbformat": 4,
 "nbformat_minor": 2
}
